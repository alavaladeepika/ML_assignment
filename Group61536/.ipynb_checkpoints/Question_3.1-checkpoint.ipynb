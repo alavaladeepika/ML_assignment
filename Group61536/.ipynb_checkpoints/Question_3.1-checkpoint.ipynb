{
 "cells": [
  {
   "cell_type": "code",
   "execution_count": 1,
   "metadata": {},
   "outputs": [],
   "source": [
    "import pandas as pd\n",
    "import numpy as np\n",
    "import matplotlib.pyplot as plt\n",
    "%matplotlib inline"
   ]
  },
  {
   "cell_type": "code",
   "execution_count": 2,
   "metadata": {},
   "outputs": [
    {
     "data": {
      "text/html": [
       "<div>\n",
       "<style scoped>\n",
       "    .dataframe tbody tr th:only-of-type {\n",
       "        vertical-align: middle;\n",
       "    }\n",
       "\n",
       "    .dataframe tbody tr th {\n",
       "        vertical-align: top;\n",
       "    }\n",
       "\n",
       "    .dataframe thead th {\n",
       "        text-align: right;\n",
       "    }\n",
       "</style>\n",
       "<table border=\"1\" class=\"dataframe\">\n",
       "  <thead>\n",
       "    <tr style=\"text-align: right;\">\n",
       "      <th></th>\n",
       "      <th>Unnamed: 0</th>\n",
       "      <th>F0</th>\n",
       "      <th>F1</th>\n",
       "      <th>F2</th>\n",
       "      <th>F3</th>\n",
       "      <th>F4</th>\n",
       "      <th>F5</th>\n",
       "      <th>F6</th>\n",
       "      <th>F7</th>\n",
       "      <th>F8</th>\n",
       "      <th>F9</th>\n",
       "      <th>F10</th>\n",
       "      <th>F11</th>\n",
       "      <th>Label</th>\n",
       "    </tr>\n",
       "  </thead>\n",
       "  <tbody>\n",
       "    <tr>\n",
       "      <th>0</th>\n",
       "      <td>0</td>\n",
       "      <td>0.348462</td>\n",
       "      <td>0.313163</td>\n",
       "      <td>-0.883081</td>\n",
       "      <td>0.098483</td>\n",
       "      <td>-0.168250</td>\n",
       "      <td>0.020264</td>\n",
       "      <td>0.011705</td>\n",
       "      <td>0.021841</td>\n",
       "      <td>0.007599</td>\n",
       "      <td>0.134237</td>\n",
       "      <td>0.249658</td>\n",
       "      <td>0.199757</td>\n",
       "      <td>0</td>\n",
       "    </tr>\n",
       "    <tr>\n",
       "      <th>1</th>\n",
       "      <td>1</td>\n",
       "      <td>0.377118</td>\n",
       "      <td>0.302959</td>\n",
       "      <td>-0.875143</td>\n",
       "      <td>0.052411</td>\n",
       "      <td>-0.316937</td>\n",
       "      <td>-0.016720</td>\n",
       "      <td>0.005516</td>\n",
       "      <td>0.009458</td>\n",
       "      <td>0.001826</td>\n",
       "      <td>0.031126</td>\n",
       "      <td>0.039958</td>\n",
       "      <td>0.029229</td>\n",
       "      <td>1</td>\n",
       "    </tr>\n",
       "    <tr>\n",
       "      <th>2</th>\n",
       "      <td>2</td>\n",
       "      <td>0.362622</td>\n",
       "      <td>0.306870</td>\n",
       "      <td>-0.879939</td>\n",
       "      <td>0.074370</td>\n",
       "      <td>-0.223022</td>\n",
       "      <td>0.021577</td>\n",
       "      <td>0.001426</td>\n",
       "      <td>0.005996</td>\n",
       "      <td>0.002257</td>\n",
       "      <td>0.024219</td>\n",
       "      <td>0.013227</td>\n",
       "      <td>0.021456</td>\n",
       "      <td>1</td>\n",
       "    </tr>\n",
       "    <tr>\n",
       "      <th>3</th>\n",
       "      <td>3</td>\n",
       "      <td>0.360025</td>\n",
       "      <td>0.282392</td>\n",
       "      <td>-0.888977</td>\n",
       "      <td>0.058799</td>\n",
       "      <td>-0.139467</td>\n",
       "      <td>-0.122720</td>\n",
       "      <td>0.004788</td>\n",
       "      <td>0.017349</td>\n",
       "      <td>0.005781</td>\n",
       "      <td>0.062208</td>\n",
       "      <td>0.073052</td>\n",
       "      <td>0.018227</td>\n",
       "      <td>1</td>\n",
       "    </tr>\n",
       "    <tr>\n",
       "      <th>4</th>\n",
       "      <td>4</td>\n",
       "      <td>0.361235</td>\n",
       "      <td>0.280317</td>\n",
       "      <td>-0.889302</td>\n",
       "      <td>0.058628</td>\n",
       "      <td>-0.150846</td>\n",
       "      <td>-0.123612</td>\n",
       "      <td>0.003201</td>\n",
       "      <td>0.007381</td>\n",
       "      <td>0.003100</td>\n",
       "      <td>0.013480</td>\n",
       "      <td>0.027003</td>\n",
       "      <td>0.005805</td>\n",
       "      <td>1</td>\n",
       "    </tr>\n",
       "  </tbody>\n",
       "</table>\n",
       "</div>"
      ],
      "text/plain": [
       "   Unnamed: 0        F0        F1        F2        F3        F4        F5  \\\n",
       "0           0  0.348462  0.313163 -0.883081  0.098483 -0.168250  0.020264   \n",
       "1           1  0.377118  0.302959 -0.875143  0.052411 -0.316937 -0.016720   \n",
       "2           2  0.362622  0.306870 -0.879939  0.074370 -0.223022  0.021577   \n",
       "3           3  0.360025  0.282392 -0.888977  0.058799 -0.139467 -0.122720   \n",
       "4           4  0.361235  0.280317 -0.889302  0.058628 -0.150846 -0.123612   \n",
       "\n",
       "         F6        F7        F8        F9       F10       F11  Label  \n",
       "0  0.011705  0.021841  0.007599  0.134237  0.249658  0.199757      0  \n",
       "1  0.005516  0.009458  0.001826  0.031126  0.039958  0.029229      1  \n",
       "2  0.001426  0.005996  0.002257  0.024219  0.013227  0.021456      1  \n",
       "3  0.004788  0.017349  0.005781  0.062208  0.073052  0.018227      1  \n",
       "4  0.003201  0.007381  0.003100  0.013480  0.027003  0.005805      1  "
      ]
     },
     "execution_count": 2,
     "metadata": {},
     "output_type": "execute_result"
    }
   ],
   "source": [
    "#Reading the csv file\n",
    "data = pd.read_csv('../Assignment_data/Data_Q3/D51.csv')\n",
    "data.head()"
   ]
  },
  {
   "cell_type": "code",
   "execution_count": 3,
   "metadata": {},
   "outputs": [
    {
     "name": "stdout",
     "output_type": "stream",
     "text": [
      "<class 'pandas.core.frame.DataFrame'>\n",
      "RangeIndex: 2254 entries, 0 to 2253\n",
      "Data columns (total 14 columns):\n",
      "Unnamed: 0    2254 non-null int64\n",
      "F0            2254 non-null float64\n",
      "F1            2254 non-null float64\n",
      "F2            2254 non-null float64\n",
      "F3            2254 non-null float64\n",
      "F4            2254 non-null float64\n",
      "F5            2254 non-null float64\n",
      "F6            2254 non-null float64\n",
      "F7            2254 non-null float64\n",
      "F8            2254 non-null float64\n",
      "F9            2254 non-null float64\n",
      "F10           2254 non-null float64\n",
      "F11           2254 non-null float64\n",
      "Label         2254 non-null int64\n",
      "dtypes: float64(12), int64(2)\n",
      "memory usage: 246.6 KB\n"
     ]
    }
   ],
   "source": [
    "data.info()"
   ]
  },
  {
   "cell_type": "code",
   "execution_count": 4,
   "metadata": {},
   "outputs": [],
   "source": [
    "#splitting the dataset into training set and test set\n",
    "from sklearn.model_selection import train_test_split\n",
    "\n",
    "train_set, test_set = train_test_split(data, test_size=0.2, random_state=42)"
   ]
  },
  {
   "cell_type": "code",
   "execution_count": 5,
   "metadata": {},
   "outputs": [
    {
     "data": {
      "text/html": [
       "<div>\n",
       "<style scoped>\n",
       "    .dataframe tbody tr th:only-of-type {\n",
       "        vertical-align: middle;\n",
       "    }\n",
       "\n",
       "    .dataframe tbody tr th {\n",
       "        vertical-align: top;\n",
       "    }\n",
       "\n",
       "    .dataframe thead th {\n",
       "        text-align: right;\n",
       "    }\n",
       "</style>\n",
       "<table border=\"1\" class=\"dataframe\">\n",
       "  <thead>\n",
       "    <tr style=\"text-align: right;\">\n",
       "      <th></th>\n",
       "      <th>Unnamed: 0</th>\n",
       "      <th>F0</th>\n",
       "      <th>F1</th>\n",
       "      <th>F2</th>\n",
       "      <th>F3</th>\n",
       "      <th>F4</th>\n",
       "      <th>F5</th>\n",
       "      <th>F6</th>\n",
       "      <th>F7</th>\n",
       "      <th>F8</th>\n",
       "      <th>F9</th>\n",
       "      <th>F10</th>\n",
       "      <th>F11</th>\n",
       "      <th>Label</th>\n",
       "    </tr>\n",
       "  </thead>\n",
       "  <tbody>\n",
       "    <tr>\n",
       "      <th>121</th>\n",
       "      <td>121</td>\n",
       "      <td>0.316162</td>\n",
       "      <td>0.293356</td>\n",
       "      <td>-0.901531</td>\n",
       "      <td>-0.055154</td>\n",
       "      <td>0.197522</td>\n",
       "      <td>0.031506</td>\n",
       "      <td>0.010711</td>\n",
       "      <td>0.030875</td>\n",
       "      <td>0.012595</td>\n",
       "      <td>0.182942</td>\n",
       "      <td>0.040041</td>\n",
       "      <td>0.041178</td>\n",
       "      <td>1</td>\n",
       "    </tr>\n",
       "    <tr>\n",
       "      <th>173</th>\n",
       "      <td>173</td>\n",
       "      <td>0.342953</td>\n",
       "      <td>0.328651</td>\n",
       "      <td>-0.879980</td>\n",
       "      <td>0.102548</td>\n",
       "      <td>-0.044241</td>\n",
       "      <td>0.140882</td>\n",
       "      <td>0.000991</td>\n",
       "      <td>0.002371</td>\n",
       "      <td>0.001007</td>\n",
       "      <td>0.011043</td>\n",
       "      <td>0.007843</td>\n",
       "      <td>0.003937</td>\n",
       "      <td>1</td>\n",
       "    </tr>\n",
       "    <tr>\n",
       "      <th>1245</th>\n",
       "      <td>1245</td>\n",
       "      <td>0.157628</td>\n",
       "      <td>0.227237</td>\n",
       "      <td>-0.958732</td>\n",
       "      <td>0.111409</td>\n",
       "      <td>0.286998</td>\n",
       "      <td>-0.028284</td>\n",
       "      <td>0.040457</td>\n",
       "      <td>0.047689</td>\n",
       "      <td>0.020932</td>\n",
       "      <td>0.014165</td>\n",
       "      <td>0.018101</td>\n",
       "      <td>0.007679</td>\n",
       "      <td>1</td>\n",
       "    </tr>\n",
       "    <tr>\n",
       "      <th>1323</th>\n",
       "      <td>1323</td>\n",
       "      <td>0.011324</td>\n",
       "      <td>0.099787</td>\n",
       "      <td>-0.991258</td>\n",
       "      <td>0.165100</td>\n",
       "      <td>0.155952</td>\n",
       "      <td>0.137904</td>\n",
       "      <td>0.033611</td>\n",
       "      <td>0.077369</td>\n",
       "      <td>0.014335</td>\n",
       "      <td>0.012905</td>\n",
       "      <td>0.034925</td>\n",
       "      <td>0.007982</td>\n",
       "      <td>1</td>\n",
       "    </tr>\n",
       "    <tr>\n",
       "      <th>999</th>\n",
       "      <td>999</td>\n",
       "      <td>0.263980</td>\n",
       "      <td>0.299922</td>\n",
       "      <td>-0.915451</td>\n",
       "      <td>-0.050777</td>\n",
       "      <td>-0.115240</td>\n",
       "      <td>-0.005539</td>\n",
       "      <td>0.034215</td>\n",
       "      <td>0.030451</td>\n",
       "      <td>0.014590</td>\n",
       "      <td>0.029493</td>\n",
       "      <td>0.040330</td>\n",
       "      <td>0.046468</td>\n",
       "      <td>0</td>\n",
       "    </tr>\n",
       "  </tbody>\n",
       "</table>\n",
       "</div>"
      ],
      "text/plain": [
       "      Unnamed: 0        F0        F1        F2        F3        F4        F5  \\\n",
       "121          121  0.316162  0.293356 -0.901531 -0.055154  0.197522  0.031506   \n",
       "173          173  0.342953  0.328651 -0.879980  0.102548 -0.044241  0.140882   \n",
       "1245        1245  0.157628  0.227237 -0.958732  0.111409  0.286998 -0.028284   \n",
       "1323        1323  0.011324  0.099787 -0.991258  0.165100  0.155952  0.137904   \n",
       "999          999  0.263980  0.299922 -0.915451 -0.050777 -0.115240 -0.005539   \n",
       "\n",
       "            F6        F7        F8        F9       F10       F11  Label  \n",
       "121   0.010711  0.030875  0.012595  0.182942  0.040041  0.041178      1  \n",
       "173   0.000991  0.002371  0.001007  0.011043  0.007843  0.003937      1  \n",
       "1245  0.040457  0.047689  0.020932  0.014165  0.018101  0.007679      1  \n",
       "1323  0.033611  0.077369  0.014335  0.012905  0.034925  0.007982      1  \n",
       "999   0.034215  0.030451  0.014590  0.029493  0.040330  0.046468      0  "
      ]
     },
     "execution_count": 5,
     "metadata": {},
     "output_type": "execute_result"
    }
   ],
   "source": [
    "train_set.head()"
   ]
  },
  {
   "cell_type": "code",
   "execution_count": 6,
   "metadata": {},
   "outputs": [
    {
     "data": {
      "text/html": [
       "<div>\n",
       "<style scoped>\n",
       "    .dataframe tbody tr th:only-of-type {\n",
       "        vertical-align: middle;\n",
       "    }\n",
       "\n",
       "    .dataframe tbody tr th {\n",
       "        vertical-align: top;\n",
       "    }\n",
       "\n",
       "    .dataframe thead th {\n",
       "        text-align: right;\n",
       "    }\n",
       "</style>\n",
       "<table border=\"1\" class=\"dataframe\">\n",
       "  <thead>\n",
       "    <tr style=\"text-align: right;\">\n",
       "      <th></th>\n",
       "      <th>Unnamed: 0</th>\n",
       "      <th>F0</th>\n",
       "      <th>F1</th>\n",
       "      <th>F2</th>\n",
       "      <th>F3</th>\n",
       "      <th>F4</th>\n",
       "      <th>F5</th>\n",
       "      <th>F6</th>\n",
       "      <th>F7</th>\n",
       "      <th>F8</th>\n",
       "      <th>F9</th>\n",
       "      <th>F10</th>\n",
       "      <th>F11</th>\n",
       "      <th>Label</th>\n",
       "    </tr>\n",
       "  </thead>\n",
       "  <tbody>\n",
       "    <tr>\n",
       "      <th>2063</th>\n",
       "      <td>2063</td>\n",
       "      <td>0.219480</td>\n",
       "      <td>0.353196</td>\n",
       "      <td>-0.906731</td>\n",
       "      <td>0.260727</td>\n",
       "      <td>-0.125172</td>\n",
       "      <td>0.170507</td>\n",
       "      <td>0.030283</td>\n",
       "      <td>0.057854</td>\n",
       "      <td>0.025604</td>\n",
       "      <td>0.056460</td>\n",
       "      <td>0.045957</td>\n",
       "      <td>0.086051</td>\n",
       "      <td>1</td>\n",
       "    </tr>\n",
       "    <tr>\n",
       "      <th>1263</th>\n",
       "      <td>1263</td>\n",
       "      <td>0.085536</td>\n",
       "      <td>0.223005</td>\n",
       "      <td>-0.967254</td>\n",
       "      <td>0.086811</td>\n",
       "      <td>0.281656</td>\n",
       "      <td>0.085397</td>\n",
       "      <td>0.051639</td>\n",
       "      <td>0.061754</td>\n",
       "      <td>0.029851</td>\n",
       "      <td>0.054223</td>\n",
       "      <td>0.042065</td>\n",
       "      <td>0.046288</td>\n",
       "      <td>1</td>\n",
       "    </tr>\n",
       "    <tr>\n",
       "      <th>2127</th>\n",
       "      <td>2127</td>\n",
       "      <td>0.089150</td>\n",
       "      <td>0.269871</td>\n",
       "      <td>-0.955732</td>\n",
       "      <td>0.077142</td>\n",
       "      <td>0.269803</td>\n",
       "      <td>0.078721</td>\n",
       "      <td>0.037762</td>\n",
       "      <td>0.061999</td>\n",
       "      <td>0.022974</td>\n",
       "      <td>0.010731</td>\n",
       "      <td>0.041363</td>\n",
       "      <td>0.043932</td>\n",
       "      <td>0</td>\n",
       "    </tr>\n",
       "    <tr>\n",
       "      <th>599</th>\n",
       "      <td>599</td>\n",
       "      <td>0.381911</td>\n",
       "      <td>0.374295</td>\n",
       "      <td>-0.844846</td>\n",
       "      <td>0.350861</td>\n",
       "      <td>0.134304</td>\n",
       "      <td>0.031287</td>\n",
       "      <td>0.011134</td>\n",
       "      <td>0.010561</td>\n",
       "      <td>0.006816</td>\n",
       "      <td>0.033942</td>\n",
       "      <td>0.022350</td>\n",
       "      <td>0.013100</td>\n",
       "      <td>0</td>\n",
       "    </tr>\n",
       "    <tr>\n",
       "      <th>464</th>\n",
       "      <td>464</td>\n",
       "      <td>0.450384</td>\n",
       "      <td>0.265171</td>\n",
       "      <td>-0.851497</td>\n",
       "      <td>0.210392</td>\n",
       "      <td>-0.300815</td>\n",
       "      <td>-0.040869</td>\n",
       "      <td>0.032023</td>\n",
       "      <td>0.024862</td>\n",
       "      <td>0.012149</td>\n",
       "      <td>0.015922</td>\n",
       "      <td>0.089045</td>\n",
       "      <td>0.015797</td>\n",
       "      <td>1</td>\n",
       "    </tr>\n",
       "  </tbody>\n",
       "</table>\n",
       "</div>"
      ],
      "text/plain": [
       "      Unnamed: 0        F0        F1        F2        F3        F4        F5  \\\n",
       "2063        2063  0.219480  0.353196 -0.906731  0.260727 -0.125172  0.170507   \n",
       "1263        1263  0.085536  0.223005 -0.967254  0.086811  0.281656  0.085397   \n",
       "2127        2127  0.089150  0.269871 -0.955732  0.077142  0.269803  0.078721   \n",
       "599          599  0.381911  0.374295 -0.844846  0.350861  0.134304  0.031287   \n",
       "464          464  0.450384  0.265171 -0.851497  0.210392 -0.300815 -0.040869   \n",
       "\n",
       "            F6        F7        F8        F9       F10       F11  Label  \n",
       "2063  0.030283  0.057854  0.025604  0.056460  0.045957  0.086051      1  \n",
       "1263  0.051639  0.061754  0.029851  0.054223  0.042065  0.046288      1  \n",
       "2127  0.037762  0.061999  0.022974  0.010731  0.041363  0.043932      0  \n",
       "599   0.011134  0.010561  0.006816  0.033942  0.022350  0.013100      0  \n",
       "464   0.032023  0.024862  0.012149  0.015922  0.089045  0.015797      1  "
      ]
     },
     "execution_count": 6,
     "metadata": {},
     "output_type": "execute_result"
    }
   ],
   "source": [
    "test_set.head()"
   ]
  },
  {
   "cell_type": "code",
   "execution_count": 7,
   "metadata": {},
   "outputs": [],
   "source": [
    "#For training data\n",
    "#Forming an array without the columns \"Unnamed: 0\", \"Label\"\n",
    "X = train_set.drop([\"Unnamed: 0\", \"Label\"], axis=1)\n",
    "Y = pd.DataFrame(train_set.Label) #labels\n",
    "\n",
    "X = X.values\n",
    "Y = Y.values"
   ]
  },
  {
   "cell_type": "code",
   "execution_count": 8,
   "metadata": {},
   "outputs": [],
   "source": [
    "#For test data\n",
    "#Forming an array without the columns \"Unnamed: 0\", \"Label\"\n",
    "test_data = test_set.drop([\"Unnamed: 0\", \"Label\"], axis=1)\n",
    "test_labels = pd.DataFrame(test_set.Label) #labels\n",
    "\n",
    "test_data = test_data.values\n",
    "test_labels = test_labels.values"
   ]
  },
  {
   "cell_type": "code",
   "execution_count": 9,
   "metadata": {},
   "outputs": [],
   "source": [
    "import math\n",
    "\n",
    "#Euclidean distance between two data points in a d-dimensional space\n",
    "def distance(p1,p2,dim):\n",
    "    d = 0\n",
    "    for i in range(dim):\n",
    "        d += pow(p1[i]-p2[i],2)\n",
    "    return math.sqrt(d)\n",
    "\n",
    "#Finding the index of the nearest neighbour(minimum distance) for the given data point\n",
    "def nearest_neighbour(p,x):\n",
    "    min_d = float('Inf')\n",
    "    min_i = 0\n",
    "    dim = len(x[0])\n",
    "    for i in range(len(x)):\n",
    "        d = distance(p,x[i],dim)\n",
    "        if(min_d > d):\n",
    "            min_d = d\n",
    "            min_i = i\n",
    "    return min_i\n",
    "\n",
    "#Finding the label of the obtained nearest neighbour\n",
    "def nn_classifier(p,x,labels):\n",
    "    return labels[nearest_neighbour(p,x)]"
   ]
  },
  {
   "cell_type": "code",
   "execution_count": 10,
   "metadata": {},
   "outputs": [
    {
     "name": "stdout",
     "output_type": "stream",
     "text": [
      "CPU times: user 6.42 s, sys: 250 ms, total: 6.67 s\n",
      "Wall time: 6.44 s\n"
     ]
    }
   ],
   "source": [
    "%%time\n",
    "#Finding predicted test labels\n",
    "predicted_labels = []\n",
    "for i in range(len(test_data)):\n",
    "    predicted_labels.append(nn_classifier(test_data[i],X,Y))"
   ]
  },
  {
   "cell_type": "code",
   "execution_count": 11,
   "metadata": {},
   "outputs": [
    {
     "data": {
      "text/plain": [
       "0.8713968957871396"
      ]
     },
     "execution_count": 11,
     "metadata": {},
     "output_type": "execute_result"
    }
   ],
   "source": [
    "#Finding the accuracy score of the predicted test labels\n",
    "from sklearn.metrics import accuracy_score\n",
    "\n",
    "accuracy_score(test_labels,predicted_labels)"
   ]
  },
  {
   "cell_type": "code",
   "execution_count": 12,
   "metadata": {},
   "outputs": [
    {
     "data": {
      "text/plain": [
       "0.9054054054054054"
      ]
     },
     "execution_count": 12,
     "metadata": {},
     "output_type": "execute_result"
    }
   ],
   "source": [
    "#Finding the precision score of the predicted test labels\n",
    "from sklearn.metrics import precision_score\n",
    "\n",
    "precision = precision_score(test_labels,predicted_labels)\n",
    "precision"
   ]
  },
  {
   "cell_type": "code",
   "execution_count": 13,
   "metadata": {},
   "outputs": [
    {
     "data": {
      "text/plain": [
       "0.9357541899441341"
      ]
     },
     "execution_count": 13,
     "metadata": {},
     "output_type": "execute_result"
    }
   ],
   "source": [
    "#Finding the recall score of the predicted test labels\n",
    "from sklearn.metrics import recall_score\n",
    "\n",
    "recall = recall_score(test_labels,predicted_labels)\n",
    "recall"
   ]
  },
  {
   "cell_type": "code",
   "execution_count": 14,
   "metadata": {},
   "outputs": [
    {
     "data": {
      "text/plain": [
       "0.9203296703296703"
      ]
     },
     "execution_count": 14,
     "metadata": {},
     "output_type": "execute_result"
    }
   ],
   "source": [
    "F_measure = 2 * (precision * recall) / (precision + recall)\n",
    "F_measure"
   ]
  },
  {
   "cell_type": "code",
   "execution_count": 15,
   "metadata": {},
   "outputs": [
    {
     "name": "stdout",
     "output_type": "stream",
     "text": [
      "0.22029494803868566\n",
      "0.7797050519613143\n"
     ]
    }
   ],
   "source": [
    "#Finding the AUC of the predicted test labels\n",
    "from sklearn import metrics\n",
    "\n",
    "#area under the curve with label '0'\n",
    "fpr, tpr, thresholds = metrics.roc_curve(test_labels, predicted_labels, pos_label=0)\n",
    "print metrics.auc(fpr, tpr)\n",
    "\n",
    "#area under the curve with label '1'\n",
    "fpr, tpr, thresholds = metrics.roc_curve(test_labels, predicted_labels, pos_label=1)\n",
    "print metrics.auc(fpr, tpr)"
   ]
  }
 ],
 "metadata": {
  "kernelspec": {
   "display_name": "Python 2",
   "language": "python",
   "name": "python2"
  },
  "language_info": {
   "codemirror_mode": {
    "name": "ipython",
    "version": 2
   },
   "file_extension": ".py",
   "mimetype": "text/x-python",
   "name": "python",
   "nbconvert_exporter": "python",
   "pygments_lexer": "ipython2",
   "version": "2.7.12"
  }
 },
 "nbformat": 4,
 "nbformat_minor": 2
}
